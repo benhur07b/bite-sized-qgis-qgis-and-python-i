{
 "cells": [
  {
   "cell_type": "markdown",
   "metadata": {
    "tags": []
   },
   "source": [
    "# Really basic Python stuff"
   ]
  },
  {
   "cell_type": "markdown",
   "metadata": {
    "tags": []
   },
   "source": [
    "## Hello world!"
   ]
  },
  {
   "cell_type": "code",
   "execution_count": null,
   "metadata": {},
   "outputs": [],
   "source": [
    "print(\"Hello world!\")"
   ]
  },
  {
   "cell_type": "markdown",
   "metadata": {},
   "source": [
    "## Defining variables and data types"
   ]
  },
  {
   "cell_type": "code",
   "execution_count": null,
   "metadata": {},
   "outputs": [],
   "source": [
    "name = \"Joseph\"\n",
    "age = 19\n",
    "single = True\n",
    "\n",
    "print(type(name), type(age), type(single))"
   ]
  },
  {
   "cell_type": "markdown",
   "metadata": {},
   "source": [
    "## Importing a library"
   ]
  },
  {
   "cell_type": "code",
   "execution_count": null,
   "metadata": {},
   "outputs": [],
   "source": [
    "import this"
   ]
  },
  {
   "cell_type": "markdown",
   "metadata": {},
   "source": [
    "## Importing a library (2)"
   ]
  },
  {
   "cell_type": "code",
   "execution_count": null,
   "metadata": {},
   "outputs": [],
   "source": [
    "import math\n",
    "from random import randint\n",
    "import datetime as dt\n",
    "from datetime import date\n",
    "\n",
    "print(math.sqrt(4))  # to access the sqrt method, we need to call math first\n",
    "\n",
    "print(randint(1,15)) # no need to call random to access randint method\n",
    "\n",
    "print(dt.datetime.today())  #dt becomes shorthand for the datetime library\n",
    "\n",
    "print(date.today())"
   ]
  },
  {
   "cell_type": "markdown",
   "metadata": {},
   "source": [
    "### You might have also seen this"
   ]
  },
  {
   "cell_type": "code",
   "execution_count": null,
   "metadata": {},
   "outputs": [],
   "source": [
    "from math import *  # import ALL things inside math\n",
    "\n",
    "print(math.sqrt(4))"
   ]
  },
  {
   "cell_type": "markdown",
   "metadata": {},
   "source": [
    "### Try to avoid importing all things inside a library, instead be EXPLICIT. \n",
    "\n",
    "Remember line 2 of the Zen of Python."
   ]
  },
  {
   "cell_type": "code",
   "execution_count": null,
   "metadata": {},
   "outputs": [],
   "source": [
    "from math import sqrt  # just import what you need\n",
    "\n",
    "print(math.sqrt(4))"
   ]
  },
  {
   "cell_type": "markdown",
   "metadata": {},
   "source": [
    "## PEP 8 (Python Style Guide)\n",
    "\n",
    "Learn how to write more elegant and pythonic code\n",
    "\n",
    "[https://www.python.org/dev/peps/pep-0008/](https://www.python.org/dev/peps/pep-0008/)"
   ]
  },
  {
   "cell_type": "markdown",
   "metadata": {},
   "source": [
    "## Defining a function"
   ]
  },
  {
   "cell_type": "code",
   "execution_count": null,
   "metadata": {},
   "outputs": [],
   "source": [
    "# def tells Python that you are defining a function\n",
    "\n",
    "def hello_world():\n",
    "    print(\"Hello world\")\n",
    "    \n",
    "hello_world()"
   ]
  },
  {
   "cell_type": "markdown",
   "metadata": {},
   "source": [
    "## Adding a function argument/parameter"
   ]
  },
  {
   "cell_type": "code",
   "execution_count": null,
   "metadata": {},
   "outputs": [],
   "source": [
    "def hello_there(person):\n",
    "    \"\"\"\n",
    "    The function hello there now accepts 1 variable (person) as an argument/parameter\n",
    "    \"\"\"\n",
    "    print(\"Hello there {}!\".format(person))\n",
    "    \n",
    "hello_there(\"Juan\")\n"
   ]
  },
  {
   "cell_type": "markdown",
   "metadata": {},
   "source": [
    "## Passing a variable as a function argument"
   ]
  },
  {
   "cell_type": "code",
   "execution_count": null,
   "metadata": {},
   "outputs": [],
   "source": [
    "def hello_there(person):\n",
    "    print(\"Hello there {}!\".format(person))\n",
    "\n",
    "name = \"Pedro\"\n",
    "hello_there(name)"
   ]
  },
  {
   "cell_type": "markdown",
   "metadata": {},
   "source": [
    "## Flow control: if-else statement"
   ]
  },
  {
   "cell_type": "code",
   "execution_count": null,
   "metadata": {},
   "outputs": [],
   "source": [
    "def hello_there(person):\n",
    "    print(\"Hello there {}!\".format(person))\n",
    "\n",
    "name = \"Pedro\"\n",
    "\n",
    "if name == \"Juan\":  # check if the value of name is Juan; REMEMBER: == means comparison, = means assigment\n",
    "    hello_there(\"Juan\")\n",
    "else:\n",
    "    hello_there(\"not Juan\")"
   ]
  },
  {
   "cell_type": "markdown",
   "metadata": {},
   "source": [
    "## Flow control: for loop"
   ]
  },
  {
   "cell_type": "code",
   "execution_count": null,
   "metadata": {},
   "outputs": [],
   "source": [
    "def hello_there(person):\n",
    "    print(\"Hello there {}!\".format(person))\n",
    "\n",
    "names = [\"Juan\", \"Pedro\", \"Jose\"]  # NEW DATA STRUCTURE. This is a list. A list is an iterable that contains objects.\n",
    "\n",
    "# run hello_there for every element in the list names\n",
    "for name in names: \n",
    "    hello_there(name)"
   ]
  },
  {
   "cell_type": "markdown",
   "metadata": {},
   "source": [
    "## Flow control: if-else + for"
   ]
  },
  {
   "cell_type": "code",
   "execution_count": null,
   "metadata": {},
   "outputs": [],
   "source": [
    "def hello_there(person):\n",
    "    print(\"Hello there {}!\".format(person))\n",
    "\n",
    "names = [\"Juan\", False, \"Pedro\", \"Jose\", 1, 0, True]  # lists can contain elements of different data types\n",
    "\n",
    "for name in names:\n",
    "    if name:\n",
    "        hello_there(name)\n",
    "    else:\n",
    "        print(\"No one’s there!\")"
   ]
  },
  {
   "cell_type": "markdown",
   "metadata": {},
   "source": [
    "### CHALLENGE\n",
    "\n",
    "What should I do if I want hello_there to run regardless of the names I put as an argument?"
   ]
  },
  {
   "cell_type": "markdown",
   "metadata": {},
   "source": [
    "## Errors & exceptions: try-except-finally (1) "
   ]
  },
  {
   "cell_type": "code",
   "execution_count": null,
   "metadata": {},
   "outputs": [],
   "source": [
    "x, y = 1, 0\n",
    "\n",
    "print(x/y)\n",
    "\n",
    "# What happens?"
   ]
  },
  {
   "cell_type": "markdown",
   "metadata": {},
   "source": [
    "## Errors & exceptions: try-except-finally (2)"
   ]
  },
  {
   "cell_type": "code",
   "execution_count": null,
   "metadata": {},
   "outputs": [],
   "source": [
    "x, y = 1, 0\n",
    "\n",
    "try:  # try to do this first\n",
    "    print(x/y)  \n",
    "except:  # if something unexpected happens (like an error), do this instead\n",
    "    print(\"We couldn't do the division\")"
   ]
  },
  {
   "cell_type": "markdown",
   "metadata": {},
   "source": [
    "## Errors & exceptions: try-except-finally (3) "
   ]
  },
  {
   "cell_type": "code",
   "execution_count": null,
   "metadata": {},
   "outputs": [],
   "source": [
    "x, y = 1, 0\n",
    "\n",
    "try:\n",
    "    print(x/y)\n",
    "except ZeroDivisionError as e:  # explicitly catch the error we want to catch\n",
    "    print(\"We couldn't do the division. ERROR: {}\".format(e))"
   ]
  },
  {
   "cell_type": "markdown",
   "metadata": {},
   "source": [
    "## Errors & exceptions: try-except-finally (4) "
   ]
  },
  {
   "cell_type": "code",
   "execution_count": null,
   "metadata": {},
   "outputs": [],
   "source": [
    "x, y = 1, 0\n",
    "\n",
    "try:\n",
    "    a, b = x, y\n",
    "    print(a/b)\n",
    "except ZeroDivisionError as e:\n",
    "    print(\"We couldn't do the division. Reason: {}\".format(e))\n",
    "finally:\n",
    "    print(\"numerator: {num}, denominator: {den}\".format(num=a, den=b))"
   ]
  }
 ],
 "metadata": {
  "kernelspec": {
   "display_name": "Python 3",
   "language": "python",
   "name": "python3"
  },
  "language_info": {
   "codemirror_mode": {
    "name": "ipython",
    "version": 3
   },
   "file_extension": ".py",
   "mimetype": "text/x-python",
   "name": "python",
   "nbconvert_exporter": "python",
   "pygments_lexer": "ipython3",
   "version": "3.8.3"
  }
 },
 "nbformat": 4,
 "nbformat_minor": 4
}
